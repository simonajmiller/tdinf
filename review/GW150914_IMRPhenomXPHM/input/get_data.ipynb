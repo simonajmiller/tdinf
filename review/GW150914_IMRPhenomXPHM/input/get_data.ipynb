{
 "cells": [
  {
   "cell_type": "markdown",
   "id": "9cf2d81c-30dd-424e-8efe-92c1245c250f",
   "metadata": {},
   "source": [
    "# Notebook to fetch the input data for GW150914 from GWOSC and Zenodo"
   ]
  },
  {
   "cell_type": "code",
   "execution_count": 1,
   "id": "1d86eb87-a6b8-47a6-abaf-98e3df7cc2ad",
   "metadata": {},
   "outputs": [
    {
     "name": "stderr",
     "output_type": "stream",
     "text": [
      "/mnt/home/smiller/src/time-domain-gw-inference/.venv/lib/python3.11/site-packages/gwpy/time/__init__.py:36: UserWarning: Wswiglal-redir-stdio:\n",
      "\n",
      "SWIGLAL standard output/error redirection is enabled in IPython.\n",
      "This may lead to performance penalties. To disable locally, use:\n",
      "\n",
      "with lal.no_swig_redirect_standard_output_error():\n",
      "    ...\n",
      "\n",
      "To disable globally, use:\n",
      "\n",
      "lal.swig_redirect_standard_output_error(False)\n",
      "\n",
      "Note however that this will likely lead to error messages from\n",
      "LAL functions being either misdirected or lost when called from\n",
      "Jupyter notebooks.\n",
      "\n",
      "To suppress this warning, use:\n",
      "\n",
      "import warnings\n",
      "warnings.filterwarnings(\"ignore\", \"Wswiglal-redir-stdio\")\n",
      "import lal\n",
      "\n",
      "  from lal import LIGOTimeGPS\n"
     ]
    }
   ],
   "source": [
    "import h5ify\n",
    "import numpy as np\n",
    "from gwpy.timeseries import TimeSeries\n",
    "import os"
   ]
  },
  {
   "cell_type": "markdown",
   "id": "a172eda7-676e-49b8-a894-46281e77ee82",
   "metadata": {},
   "source": [
    "### Get data"
   ]
  },
  {
   "cell_type": "markdown",
   "id": "17f1677d-e78a-4263-b93d-1971968d36b3",
   "metadata": {},
   "source": [
    "Download the `pesummary` result file from Zenodo:"
   ]
  },
  {
   "cell_type": "code",
   "execution_count": 2,
   "id": "e2eabb6e-c524-4968-9df4-5deefeba8b6e",
   "metadata": {},
   "outputs": [
    {
     "name": "stdout",
     "output_type": "stream",
     "text": [
      "--2025-07-11 18:50:33--  https://zenodo.org/record/6513631/files/IGWN-GWTC2p1-v2-GW150914_095045_PEDataRelease_mixed_cosmo.h5\n",
      "Resolving zenodo.org (zenodo.org)... 188.185.43.25, 188.185.45.92, 188.185.48.194\n",
      "Connecting to zenodo.org (zenodo.org)|188.185.43.25|:443... connected.\n",
      "HTTP request sent, awaiting response... 301 MOVED PERMANENTLY\n",
      "Location: /records/6513631/files/IGWN-GWTC2p1-v2-GW150914_095045_PEDataRelease_mixed_cosmo.h5 [following]\n",
      "--2025-07-11 18:50:34--  https://zenodo.org/records/6513631/files/IGWN-GWTC2p1-v2-GW150914_095045_PEDataRelease_mixed_cosmo.h5\n",
      "Reusing existing connection to zenodo.org:443.\n",
      "HTTP request sent, awaiting response... 200 OK\n",
      "Length: 134283070 (128M) [application/octet-stream]\n",
      "Saving to: ‘IGWN-GWTC2p1-v2-GW150914_095045_PEDataRelease_mixed_cosmo.h5’\n",
      "\n",
      "IGWN-GWTC2p1-v2-GW1 100%[===================>] 128.06M  5.64MB/s    in 24s     \n",
      "\n",
      "2025-07-11 18:50:59 (5.23 MB/s) - ‘IGWN-GWTC2p1-v2-GW150914_095045_PEDataRelease_mixed_cosmo.h5’ saved [134283070/134283070]\n",
      "\n"
     ]
    }
   ],
   "source": [
    "!wget https://zenodo.org/record/6513631/files/IGWN-GWTC2p1-v2-GW150914_095045_PEDataRelease_mixed_cosmo.h5"
   ]
  },
  {
   "cell_type": "markdown",
   "id": "a727c860-fa47-4aa3-b574-dbe6d805fa43",
   "metadata": {},
   "source": [
    "Download the strain `.gwf` files from GWOSC (32 second, 16kHz):"
   ]
  },
  {
   "cell_type": "code",
   "execution_count": 3,
   "id": "1db69d45-8969-4140-adc4-d75793cebf8d",
   "metadata": {},
   "outputs": [
    {
     "name": "stdout",
     "output_type": "stream",
     "text": [
      "--2025-07-11 18:50:59--  https://gwosc.org/eventapi/html/GWTC-1-confident/GW150914/v3/H-H1_GWOSC_16KHZ_R1-1126259447-32.gwf\n",
      "Resolving gwosc.org (gwosc.org)... 131.215.113.72\n",
      "Connecting to gwosc.org (gwosc.org)|131.215.113.72|:443... connected.\n",
      "HTTP request sent, awaiting response... 200 OK\n",
      "Length: 4050875 (3.9M) [application/octet-stream]\n",
      "Saving to: ‘H-H1_GWOSC_16KHZ_R1-1126259447-32.gwf’\n",
      "\n",
      "H-H1_GWOSC_16KHZ_R1 100%[===================>]   3.86M  4.79MB/s    in 0.8s    \n",
      "\n",
      "2025-07-11 18:51:00 (4.79 MB/s) - ‘H-H1_GWOSC_16KHZ_R1-1126259447-32.gwf’ saved [4050875/4050875]\n",
      "\n"
     ]
    }
   ],
   "source": [
    "!wget https://gwosc.org/eventapi/html/GWTC-1-confident/GW150914/v3/H-H1_GWOSC_16KHZ_R1-1126259447-32.gwf"
   ]
  },
  {
   "cell_type": "code",
   "execution_count": 4,
   "id": "62bbc0ec-b3e6-4ba9-b439-a113e6acea92",
   "metadata": {},
   "outputs": [
    {
     "name": "stdout",
     "output_type": "stream",
     "text": [
      "--2025-07-11 18:51:00--  https://gwosc.org/eventapi/html/GWTC-1-confident/GW150914/v3/L-L1_GWOSC_16KHZ_R1-1126259447-32.gwf\n",
      "Resolving gwosc.org (gwosc.org)... 131.215.113.72\n",
      "Connecting to gwosc.org (gwosc.org)|131.215.113.72|:443... connected.\n",
      "HTTP request sent, awaiting response... 200 OK\n",
      "Length: 3900380 (3.7M) [application/octet-stream]\n",
      "Saving to: ‘L-L1_GWOSC_16KHZ_R1-1126259447-32.gwf’\n",
      "\n",
      "L-L1_GWOSC_16KHZ_R1 100%[===================>]   3.72M  4.27MB/s    in 0.9s    \n",
      "\n",
      "2025-07-11 18:51:02 (4.27 MB/s) - ‘L-L1_GWOSC_16KHZ_R1-1126259447-32.gwf’ saved [3900380/3900380]\n",
      "\n"
     ]
    }
   ],
   "source": [
    "!wget https://gwosc.org/eventapi/html/GWTC-1-confident/GW150914/v3/L-L1_GWOSC_16KHZ_R1-1126259447-32.gwf"
   ]
  },
  {
   "cell_type": "markdown",
   "id": "1c8b694d-f4bd-4489-b0a0-4cc08caa361c",
   "metadata": {},
   "source": [
    "### Load in the data\n",
    "\n",
    "First, load in the posterior file. This also contains metadata for the corresponding run."
   ]
  },
  {
   "cell_type": "code",
   "execution_count": 5,
   "id": "3a1b8686-6004-4098-ab16-539423eb56c6",
   "metadata": {},
   "outputs": [],
   "source": [
    "# Posterior\n",
    "posterior = h5ify.load('IGWN-GWTC2p1-v2-GW150914_095045_PEDataRelease_mixed_cosmo.h5')"
   ]
  },
  {
   "cell_type": "markdown",
   "id": "222b3692-7e17-445f-8867-3c78ded8e315",
   "metadata": {},
   "source": [
    "From the posterior file, get the PSDs:"
   ]
  },
  {
   "cell_type": "code",
   "execution_count": 6,
   "id": "df407f72-b782-49cc-9349-6d7af1cb9532",
   "metadata": {},
   "outputs": [],
   "source": [
    "# PSDs\n",
    "H1_psd = posterior['C01:IMRPhenomXPHM']['psds']['H1']\n",
    "L1_psd = posterior['C01:IMRPhenomXPHM']['psds']['L1']\n",
    "\n",
    "# Save them as text files to be loaded into the TD inference code later\n",
    "np.savetxt('H1_psd.txt', H1_psd, delimiter=' ')\n",
    "np.savetxt('L1_psd.txt', L1_psd, delimiter=' ')"
   ]
  },
  {
   "cell_type": "markdown",
   "id": "bda208fe-f499-4e6b-a9de-6aa99339da26",
   "metadata": {},
   "source": [
    "Next, load in the strain data:"
   ]
  },
  {
   "cell_type": "code",
   "execution_count": 7,
   "id": "46ba256a-d8c5-4361-98d2-cba8975de750",
   "metadata": {},
   "outputs": [
    {
     "name": "stdout",
     "output_type": "stream",
     "text": [
      "trigger time 1126259462.391\n",
      "duration 4.0\n",
      "start time, end time: 1126259460.3910522 1126259464.3909912\n",
      "start time, end time: 1126259460.3910522 1126259464.3909912\n"
     ]
    }
   ],
   "source": [
    "# get trigger time\n",
    "t0 = float(posterior['C01:IMRPhenomXPHM']['config_file']['config']['trigger-time'][0].decode('utf-8'))\n",
    "print('trigger time', t0)\n",
    "\n",
    "# get segment duratino\n",
    "duration = float(posterior['C01:IMRPhenomXPHM']['config_file']['config']['duration'][0].decode('utf-8'))\n",
    "print('duration', duration)\n",
    "\n",
    "# cycle through IFOs\n",
    "for ifo in ['H1', 'L1']:\n",
    "\n",
    "    # get gwf data\n",
    "    gwf_data = TimeSeries.read(f'{ifo[0]}-{ifo}_GWOSC_16KHZ_R1-1126259447-32.gwf', f'{ifo}:GWOSC-16KHZ_R1_STRAIN')\n",
    "    \n",
    "    # convert to a dictionary with +/- half the duration on each side of the trigger time\n",
    "    dt = duration / 2\n",
    "    mask = (gwf_data.times.value > t0 - dt) & (gwf_data.times.value <  t0 + dt)\n",
    "    data = {'strain':gwf_data.value[mask], 'times':gwf_data.times.value[mask]}\n",
    "\n",
    "    print('start time, end time:', data['times'][0], data['times'][-1])\n",
    "    \n",
    "    # save as .h5 file\n",
    "    if not os.path.exists(f'{ifo}_strain.h5'):\n",
    "        h5ify.save(f'{ifo}_strain.h5', data)"
   ]
  },
  {
   "cell_type": "markdown",
   "id": "091193b9-58d5-491b-95da-16af903823a6",
   "metadata": {},
   "source": [
    "Other relevant quantities for analysis: "
   ]
  },
  {
   "cell_type": "code",
   "execution_count": 8,
   "id": "793cf5fa-5b6b-4e77-b523-c6c8fcb2b12b",
   "metadata": {},
   "outputs": [
    {
     "name": "stdout",
     "output_type": "stream",
     "text": [
      "minimum-frequency { 'H1': 20, 'L1': 20,  }\n",
      "maximum-frequency { 'H1': 896, 'L1': 896,  }\n",
      "reference-frequency 20\n",
      "sampling-frequency 2048\n"
     ]
    }
   ],
   "source": [
    "quantities = ['minimum-frequency', 'maximum-frequency', 'reference-frequency', 'sampling-frequency']\n",
    "\n",
    "for q in quantities: \n",
    "    print(q, posterior['C01:IMRPhenomXPHM']['config_file']['config'][q][0].decode('utf-8'))"
   ]
  },
  {
   "cell_type": "code",
   "execution_count": null,
   "id": "7e8e0e09-ccb4-4d39-9049-4d26f263d854",
   "metadata": {},
   "outputs": [],
   "source": []
  }
 ],
 "metadata": {
  "kernelspec": {
   "display_name": "time-domain-gw-inference",
   "language": "python",
   "name": "time-domain-gw-inference"
  },
  "language_info": {
   "codemirror_mode": {
    "name": "ipython",
    "version": 3
   },
   "file_extension": ".py",
   "mimetype": "text/x-python",
   "name": "python",
   "nbconvert_exporter": "python",
   "pygments_lexer": "ipython3",
   "version": "3.11.7"
  }
 },
 "nbformat": 4,
 "nbformat_minor": 5
}
