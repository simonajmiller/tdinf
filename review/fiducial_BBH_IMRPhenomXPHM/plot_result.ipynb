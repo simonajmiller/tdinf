{
 "cells": [
  {
   "cell_type": "markdown",
   "id": "51e72aef-7dd4-4f8a-89cd-295584b668c1",
   "metadata": {},
   "source": [
    "placeholder notebook"
   ]
  },
  {
   "cell_type": "code",
   "execution_count": null,
   "id": "e2a769e9-fa86-4f8f-8533-2dc9ee54f9a5",
   "metadata": {},
   "outputs": [],
   "source": []
  },
  {
   "cell_type": "code",
   "execution_count": null,
   "id": "a7f93a25-9404-40e1-850e-3978e7fc51cb",
   "metadata": {},
   "outputs": [],
   "source": []
  }
 ],
 "metadata": {
  "kernelspec": {
   "display_name": "time-domain-gw-inference",
   "language": "python",
   "name": "time-domain-gw-inference"
  },
  "language_info": {
   "codemirror_mode": {
    "name": "ipython",
    "version": 3
   },
   "file_extension": ".py",
   "mimetype": "text/x-python",
   "name": "python",
   "nbconvert_exporter": "python",
   "pygments_lexer": "ipython3",
   "version": "3.11.7"
  }
 },
 "nbformat": 4,
 "nbformat_minor": 5
}
