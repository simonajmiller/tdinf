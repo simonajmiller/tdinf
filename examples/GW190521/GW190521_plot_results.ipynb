{
 "cells": [
  {
   "cell_type": "code",
   "execution_count": null,
   "id": "18562b36-3725-4056-822a-066cf0812773",
   "metadata": {},
   "outputs": [],
   "source": [
    "## example notebook for plotting results"
   ]
  }
 ],
 "metadata": {
  "kernelspec": {
   "display_name": "time-domain-gw-inference",
   "language": "python",
   "name": "time-domain-gw-inference"
  },
  "language_info": {
   "codemirror_mode": {
    "name": "ipython",
    "version": 3
   },
   "file_extension": ".py",
   "mimetype": "text/x-python",
   "name": "python",
   "nbconvert_exporter": "python",
   "pygments_lexer": "ipython3",
   "version": "3.11.7"
  }
 },
 "nbformat": 4,
 "nbformat_minor": 5
}
